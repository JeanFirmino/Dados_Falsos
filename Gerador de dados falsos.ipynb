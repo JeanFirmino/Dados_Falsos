{
 "cells": [
  {
   "cell_type": "markdown",
   "id": "86ea8300",
   "metadata": {},
   "source": [
    "# Gerador de dados - Biblioteca Faker\n",
    "\n",
    "# Informações retiradas de seu documento oficial"
   ]
  },
  {
   "cell_type": "markdown",
   "id": "60aa4178",
   "metadata": {},
   "source": [
    "# Documento oficial ><>  https://faker.readthedocs.io/en/stable/#  <><"
   ]
  },
  {
   "cell_type": "markdown",
   "id": "35d80d00",
   "metadata": {},
   "source": [
    "Faker é um pacote Python que gera dados falsos para você.\n",
    "Se você precisa inicializar seu banco de dados, \n",
    "criar documentos XML bonitos, preencha sua persistência para \n",
    "fazer um teste de resistência ou anonimize os dados retirados de um\n",
    "serviço de produção, o Faker é para você."
   ]
  },
  {
   "cell_type": "markdown",
   "id": "82f2bfe0",
   "metadata": {},
   "source": [
    "Compatível com python 3.6 e/ou superior."
   ]
  },
  {
   "cell_type": "markdown",
   "id": "d36311ef",
   "metadata": {},
   "source": [
    "## Instalar pacote na máquina\n",
    "\n",
    "pip install Faker \n",
    "\n",
    "ou \n",
    "\n",
    "python -m pip install <package>\n",
    "\n",
    "ou \n",
    "\n",
    "# No Jupyter\n",
    "import  sys \n",
    "! { Sys.executable } -m pip install numpy"
   ]
  },
  {
   "cell_type": "markdown",
   "id": "5474f5bf",
   "metadata": {},
   "source": [
    "## Iniciando a biblioteca"
   ]
  },
  {
   "cell_type": "code",
   "execution_count": 67,
   "id": "7827ed74",
   "metadata": {},
   "outputs": [],
   "source": [
    "from faker import Faker\n",
    "fake = Faker()"
   ]
  },
  {
   "cell_type": "code",
   "execution_count": 68,
   "id": "f2c126ff",
   "metadata": {},
   "outputs": [
    {
     "name": "stdout",
     "output_type": "stream",
     "text": [
      "Michelle Jackson\n",
      "Alexander Morris\n",
      "Anthony Frost\n",
      "Brittany Hernandez\n",
      "Rachel Barnes\n",
      "Melissa Dawson\n",
      "Helen Robinson\n",
      "Carlos Knight\n",
      "Brent Huang\n",
      "James Hendricks\n"
     ]
    }
   ],
   "source": [
    "# Para gerar nomes pessoais\n",
    "for _ in range(10):\n",
    "  print(f\"{fake.name()}\")"
   ]
  },
  {
   "cell_type": "code",
   "execution_count": 69,
   "id": "d0d63902",
   "metadata": {},
   "outputs": [
    {
     "name": "stdout",
     "output_type": "stream",
     "text": [
      "9144 Daniels Rapids Suite 340\n",
      "Michellefurt, CT 70555\n",
      "\n",
      "60666 Jennifer Rapids\n",
      "Martinmouth, MT 21342\n",
      "\n",
      "155 Courtney Trafficway Suite 803\n",
      "Gregoryshire, LA 50323\n",
      "\n",
      "606 Brooks Fords Suite 221\n",
      "Gabrielchester, MO 61255\n",
      "\n",
      "8822 Jared Forks\n",
      "New Derekfort, RI 96954\n",
      "\n",
      "164 Matthew Parkway Suite 826\n",
      "Jimmyfurt, MS 62271\n",
      "\n",
      "1220 Heidi Rue Apt. 998\n",
      "West Haleyburgh, CO 05222\n",
      "\n",
      "751 Wood Square Suite 732\n",
      "Port Melissaburgh, SD 22365\n",
      "\n",
      "376 Smith Dale Suite 279\n",
      "South Sarahland, OR 53609\n",
      "\n",
      "79148 Pierce Lock Suite 423\n",
      "Erikberg, CA 09478\n",
      "\n"
     ]
    }
   ],
   "source": [
    "# Para gerar endereços\n",
    "for _ in range(10):\n",
    "  print(f\"{fake.address()}\\n\")"
   ]
  },
  {
   "cell_type": "code",
   "execution_count": 70,
   "id": "cee24ec9",
   "metadata": {},
   "outputs": [
    {
     "name": "stdout",
     "output_type": "stream",
     "text": [
      "Not improve begin lot sport father. Speech catch ten statement carry next. Almost identify record.\n"
     ]
    }
   ],
   "source": [
    "# Para gerar textos\n",
    "print(f\"{fake.text()}\")"
   ]
  },
  {
   "cell_type": "markdown",
   "id": "4499c5be",
   "metadata": {},
   "source": [
    "## Provedores"
   ]
  },
  {
   "cell_type": "markdown",
   "id": "46a9b293",
   "metadata": {},
   "source": [
    "Cada uma das propriedades do gerador (como name, address, e lorem) são chamados de “falsos”. \n",
    "Um gerador faker tem muitos deles, empacotado em “provedores”."
   ]
  },
  {
   "cell_type": "code",
   "execution_count": 71,
   "id": "69268e04",
   "metadata": {},
   "outputs": [
    {
     "name": "stdout",
     "output_type": "stream",
     "text": [
      "172.20.35.202\n"
     ]
    }
   ],
   "source": [
    "from faker.providers import internet\n",
    "\n",
    "fake = Faker()\n",
    "fake.add_provider(internet)\n",
    "\n",
    "print(fake.ipv4_private())"
   ]
  },
  {
   "cell_type": "markdown",
   "id": "fcd18e7b",
   "metadata": {},
   "source": [
    "Todos os tipos de dados gerados podem ser encontrados em: https://faker.readthedocs.io/en/stable/providers.html"
   ]
  },
  {
   "cell_type": "markdown",
   "id": "dcf4afa3",
   "metadata": {},
   "source": [
    "## Localização (idioma dos seus dados)"
   ]
  },
  {
   "cell_type": "markdown",
   "id": "5030a0f7",
   "metadata": {},
   "source": [
    "\"faker.Faker\" pode tomar uma localidade como um argumento, para retornar dados relacionados com aquela localidade. Se nenhum provedor localizado for encontrado, a fábrica volta para o string LCID padrão para inglês dos EUA, ou seja: \"en_US\". "
   ]
  },
  {
   "cell_type": "code",
   "execution_count": 72,
   "id": "9a32e0f3",
   "metadata": {},
   "outputs": [
    {
     "name": "stdout",
     "output_type": "stream",
     "text": [
      "Pasquale Norbiato\n",
      "\n",
      "Marta Germano\n",
      "\n",
      "Veronica Paltrinieri-Offredi\n",
      "\n",
      "Gianna Oliboni\n",
      "\n",
      "Victoria Longhena\n",
      "\n",
      "Sante Maderno\n",
      "\n",
      "Riccardo Cossiga\n",
      "\n",
      "Dott. Flavio Moretti\n",
      "\n",
      "Federica Capone\n",
      "\n",
      "Lilla Pellegrini-Scarpa\n",
      "\n"
     ]
    }
   ],
   "source": [
    "fake = Faker('it_IT')\n",
    "for _ in range(10):\n",
    "    print(f\"{fake.name()}\\n\")\n",
    "# Para dados da Itália    "
   ]
  },
  {
   "cell_type": "code",
   "execution_count": 73,
   "id": "01ccec62",
   "metadata": {},
   "outputs": [
    {
     "name": "stdout",
     "output_type": "stream",
     "text": [
      "Veronica Bray\n",
      "Saturnina Giménez-Pujol\n",
      "佐々木 花子\n",
      "Rita de Baptista\n",
      "Savina Nistor\n",
      "Cătălin Ardelean\n",
      "Amanda Davis\n",
      "Tomé Henriques\n",
      "Bertrand Arnaud\n",
      "Sig.ra Amalia Giannotti\n"
     ]
    }
   ],
   "source": [
    "# Para vários idiomas\n",
    "fake = Faker(['it_IT', 'en_US', 'ja_JP','pt_BR','pt_PT','es_ES','ru_RU','fr_FR','ro_RO'])\n",
    "for _ in range(10):\n",
    "    print(f\"{fake.name()}\")"
   ]
  },
  {
   "cell_type": "markdown",
   "id": "47f617bd",
   "metadata": {},
   "source": [
    "Caso queira usar uma localidade diferente, \n",
    "use esse link e encontre as informações disponíveis: https://faker.readthedocs.io/en/stable/locales.html"
   ]
  },
  {
   "cell_type": "markdown",
   "id": "91d9d16d",
   "metadata": {},
   "source": [
    "Caso queira usar grandes grupos de idiomas de uma vez, use isso..."
   ]
  },
  {
   "cell_type": "code",
   "execution_count": 74,
   "id": "6cae37a7",
   "metadata": {},
   "outputs": [
    {
     "name": "stdout",
     "output_type": "stream",
     "text": [
      "Adalberto Piñeiro Acuña\n",
      "ทรรศนชัย มิ่งขวัญ\n",
      "Artur Weinhage MBA.\n",
      "近藤 直人\n",
      "Наина Афанасьевна Белякова\n",
      "David Hebert\n",
      "Juanita Abad Ruano\n",
      "Graciano Armengol\n",
      "André Pinheiro-Leite\n",
      "Íris Soares\n"
     ]
    }
   ],
   "source": [
    "fake = Faker(['pt','de','en','es','la','th','fr','ru','ja'])\n",
    "for _ in range(10):\n",
    "    print(f\"{fake.name()}\")"
   ]
  },
  {
   "cell_type": "markdown",
   "id": "b753670f",
   "metadata": {},
   "source": [
    "Dessa forma o idioma não será limitado a uma região ou a um local!"
   ]
  },
  {
   "cell_type": "markdown",
   "id": "ba75fb15",
   "metadata": {},
   "source": [
    "## Otimizações"
   ]
  },
  {
   "cell_type": "markdown",
   "id": "51140b6a",
   "metadata": {},
   "source": [
    "O construtor Faker usa um argumento relacionado ao desempenho chamado \"use_weighting\". Ele especifica se deve-se tentar ter a frequência de valores correspondem às frequências do mundo real (por exemplo, o nome em inglês Gary ser muito mais frequente do que o nome Lorimer). Se \"use_weighting\" é \"False\", então todos os itens têm a mesma chance de serem selecionados, e a seleção o processo é muito mais rápido. O padrão é \"True\". "
   ]
  },
  {
   "cell_type": "code",
   "execution_count": 75,
   "id": "6ddf8d3c",
   "metadata": {
    "scrolled": true
   },
   "outputs": [
    {
     "name": "stdout",
     "output_type": "stream",
     "text": [
      "Petra Brito\n",
      "Benedita da Barros\n",
      "Gil Amaral\n",
      "Ricardo Silva\n",
      "Jorge Cruz\n",
      "Rafaela-Iara Costa\n",
      "Mafalda Moura\n",
      "Nelson Barros\n",
      "Caetana Nascimento\n",
      "Luciana Castro\n"
     ]
    }
   ],
   "source": [
    "# Exemplo:\n",
    "fake = Faker(['pt'])\n",
    "for _ in range(10):\n",
    "    print(f\"{fake.name()}\")"
   ]
  },
  {
   "cell_type": "markdown",
   "id": "5ae360cc",
   "metadata": {},
   "source": [
    "# Exemplo - Geração de Dados em vários idiomas "
   ]
  },
  {
   "cell_type": "markdown",
   "id": "e907e5e9",
   "metadata": {},
   "source": [
    "## Endereços"
   ]
  },
  {
   "cell_type": "code",
   "execution_count": 76,
   "id": "f7ea4032",
   "metadata": {
    "scrolled": false
   },
   "outputs": [
    {
     "name": "stdout",
     "output_type": "stream",
     "text": [
      "Endereço completo:487 ถ.ไม้แดง พัทลุง 85930\n",
      "Número da residência:421\n",
      "Cidade:Vanessaside\n",
      "Sufixo da cidade:Ville\n",
      "País:Guadeloupe\n",
      "Código do país:BZ\n",
      "Código postal:25780\n",
      "Endereço da rua:Alameda de Guerreiro, 93\n",
      "Nome da rua:吉田 Street\n",
      "\n",
      "Endereço completo:Irmgard-Kühnert-Allee 975\n",
      "51393 Diepholz\n",
      "Número da residência:271\n",
      "Cidade:Ochsenfurt\n",
      "Sufixo da cidade:Ville\n",
      "País:Bulgaria\n",
      "Código do país:KI\n",
      "Código postal:564-4769\n",
      "Endereço da rua:839 吉田 Street\n",
      "Nome da rua:Johnston Highway\n",
      "\n",
      "Endereço completo:Calle Emperatriz Juan 21\n",
      "Burgos, 18684\n",
      "Número da residência:339\n",
      "Cidade:อุบลราชธานี\n",
      "Sufixo da cidade:поль\n",
      "País:ルクセンブルク\n",
      "Código do país:HR\n",
      "Código postal:84543\n",
      "Endereço da rua:591 林 Street\n",
      "Nome da rua:Rua Ângelo Vaz\n",
      "\n",
      "Endereço completo:茨城県西多摩郡奥多摩町神明内24丁目26番6号 日比谷公園シティ123\n",
      "Número da residência:989\n",
      "Cidade:Saint Gérard-sur-Mer\n",
      "Sufixo da cidade:shire\n",
      "País:Bouvet (Îles)\n",
      "Código do país:MX\n",
      "Código postal:510903\n",
      "Endereço da rua:бул. Волжский, д. 4/1\n",
      "Nome da rua:rue de Devaux\n",
      "\n",
      "Endereço completo:1314 Graham Circle\n",
      "Williamsville, MO 26630\n",
      "Número da residência:5\n",
      "Cidade:横浜市泉区\n",
      "Sufixo da cidade:ов\n",
      "País:Malawi\n",
      "Código do país:TN\n",
      "Código postal:173-3332\n",
      "Endereço da rua:Michelle-Fritsch-Ring 1\n",
      "Nome da rua:森 Street\n",
      "\n",
      "Endereço completo:Sieringring 4/2\n",
      "71508 Demmin\n",
      "Número da residência:67\n",
      "Cidade:Strasburg\n",
      "Sufixo da cidade:stad\n",
      "País:Norfolk (Îles)\n",
      "Código do país:ZW\n",
      "Código postal:46610\n",
      "Endereço da rua:23/3 ถนนวุฑฒยากร\n",
      "Nome da rua:бул. Зои Космодемьянской\n",
      "\n",
      "Endereço completo:Calle de Fito Salinas 5 Puerta 2 \n",
      "Melilla, 89007\n",
      "Número da residência:4\n",
      "Cidade:Williamschester\n",
      "Sufixo da cidade:вль\n",
      "País:Mayotte\n",
      "Código do país:ZW\n",
      "Código postal:11441\n",
      "Endereço da rua:Alameda Soares, 15\n",
      "Nome da rua:ถนนบุนยะตีรณะ\n",
      "\n",
      "Endereço completo:Avenida Leonor Santos, 5\n",
      "2176-104 Elvas\n",
      "Número da residência:285\n",
      "Cidade:Port Erictown\n",
      "Sufixo da cidade:นคร\n",
      "País:กายอานา\n",
      "Código do país:GA\n",
      "Código postal:89760\n",
      "Endereço da rua:Acceso de Clementina Arnal 777 Piso 8 \n",
      "Nome da rua:rue Mallet\n",
      "\n",
      "Endereço completo:24555 Matthew River\n",
      "North Josephberg, LA 47805\n",
      "Número da residência:38\n",
      "Cidade:Baleares\n",
      "Sufixo da cidade:Ville\n",
      "País:Islândia\n",
      "Código do país:BE\n",
      "Código postal:52810\n",
      "Endereço da rua:пр. Урицкого, д. 7 к. 818\n",
      "Nome da rua:chemin Zoé Le Goff\n",
      "\n",
      "Endereço completo:8, rue Thibaut Daniel\n",
      "29611 Saint Océane-sur-Mer\n",
      "Número da residência:7\n",
      "Cidade:Badajoz\n",
      "Sufixo da cidade:Ville\n",
      "País:モルドバ共和国\n",
      "Código do país:SI\n",
      "Código postal:7793-615\n",
      "Endereço da rua:9263 Wilson View\n",
      "Nome da rua:青木 Street\n",
      "\n"
     ]
    }
   ],
   "source": [
    "from faker import Faker\n",
    "fake = Faker(['pt','de','en','es','la','th','fr','ru','ja'])\n",
    "Faker.seed(0)\n",
    "# Para endereços\n",
    "for _ in range(10):\n",
    "    print(f\"Endereço completo:{fake.address()}\")\n",
    "    print(f\"Número da residência:{fake.building_number()}\")\n",
    "    print(f\"Cidade:{fake.city()}\")\n",
    "    print(f\"Sufixo da cidade:{fake.city_suffix()}\")\n",
    "    print(f\"País:{fake.country()}\")\n",
    "    print(f\"Código do país:{fake.country_code()}\")\n",
    "    print(f\"Código postal:{fake.postcode()}\")\n",
    "    print(f\"Endereço da rua:{fake.street_address()}\")\n",
    "    print(f\"Nome da rua:{fake.street_name()}\\n\")"
   ]
  },
  {
   "cell_type": "markdown",
   "id": "d470a9cb",
   "metadata": {},
   "source": [
    "## Automóvel "
   ]
  },
  {
   "cell_type": "code",
   "execution_count": 77,
   "id": "ef9fffcf",
   "metadata": {},
   "outputs": [
    {
     "name": "stdout",
     "output_type": "stream",
     "text": [
      "Licença:YN-87-BI\n",
      "\n",
      "Licença:ZJ-93-PL\n",
      "\n",
      "Licença:4219MС 26\n",
      "\n",
      "Licença:578 DXC\n",
      "\n",
      "Licença:Н593СР 77\n",
      "\n",
      "Licença:016-BZR-09\n",
      "\n",
      "Licença:ถฐ 5\n",
      "\n",
      "Licença:GS-287-HH\n",
      "\n",
      "Licença:8 ฆต 714\n",
      "\n",
      "Licença:583-WDR-98\n",
      "\n"
     ]
    }
   ],
   "source": [
    "fake = Faker(['pt','de','en','es','la','th','fr','ru','ja'])\n",
    "Faker.seed(0)\n",
    "# Para automóvel\n",
    "for _ in range(10):\n",
    "    print(f\"Licença:{fake.license_plate()}\\n\")"
   ]
  },
  {
   "cell_type": "markdown",
   "id": "9ea1fcb2",
   "metadata": {},
   "source": [
    "## Dados bancários"
   ]
  },
  {
   "cell_type": "code",
   "execution_count": 78,
   "id": "f6309a4b",
   "metadata": {},
   "outputs": [
    {
     "name": "stdout",
     "output_type": "stream",
     "text": [
      "Número de trânsito de roteamento ABA:076048766\n",
      "Código de país do provedor do banco.:RU\n",
      "Gere um número de conta bancária básico:47593824219489241157\n",
      "Gere um número de conta bancária internacional:ES6581565938778408016097\n",
      "Swift:HXKWTHEMOPJ\n",
      "Swift11:ZROCDEFU65G\n",
      "Swift8:JRJWPTH9\n",
      "\n",
      "Número de trânsito de roteamento ABA:068398945\n",
      "Código de país do provedor do banco.:GB\n",
      "Gere um número de conta bancária básico:719659342320947112\n",
      "Gere um número de conta bancária internacional:PT24201868483396947751591\n",
      "Swift:SUKGGBPBRHO\n",
      "Swift11:LZFKGB1DGJO\n",
      "Swift8:BSURESEB\n",
      "\n",
      "Número de trânsito de roteamento ABA:023991617\n",
      "Código de país do provedor do banco.:DE\n",
      "Gere um número de conta bancária básico:510903217300869141314\n",
      "Gere um número de conta bancária internacional:FR5956208709163457923022584\n",
      "Swift:TOVFTHA4\n",
      "Swift11:VNSQFRTWYQJ\n",
      "Swift8:RWAOPTFV\n",
      "\n",
      "Número de trânsito de roteamento ABA:120842371\n",
      "Código de país do provedor do banco.:RU\n",
      "Gere um número de conta bancária básico:LTJV59924661093523\n",
      "Gere um número de conta bancária internacional:GB74HUOM96069602714278\n",
      "Swift:RTYAESC5UT3\n",
      "Swift11:BZZNFRM9FIA\n",
      "Swift8:MVNKFRAN\n",
      "\n",
      "Número de trânsito de roteamento ABA:010891319\n",
      "Código de país do provedor do banco.:GB\n",
      "Gere um número de conta bancária básico:934421761047142851240\n",
      "Gere um número de conta bancária internacional:RU44BBGV4855909776582\n",
      "Swift:MSJARUIJ\n",
      "Swift11:IKKZGBXFVCC\n",
      "Swift8:IFESGBSX\n",
      "\n",
      "Número de trânsito de roteamento ABA:078241736\n",
      "Código de país do provedor do banco.:PT\n",
      "Gere um número de conta bancária básico:04281465461187755171\n",
      "Gere um número de conta bancária internacional:TH727604522961\n",
      "Swift:ZCGXDEOD\n",
      "Swift11:MADMGB97S25\n",
      "Swift8:ZSWVGBN1\n",
      "\n",
      "Número de trânsito de roteamento ABA:025349267\n",
      "Código de país do provedor do banco.:FR\n",
      "Gere um número de conta bancária básico:35110873176430392137658\n",
      "Gere um número de conta bancária internacional:TH332197296687\n",
      "Swift:PPUVPTM8OAV\n",
      "Swift11:WXKKPTC7JQJ\n",
      "Swift8:MSJWGB4E\n",
      "\n",
      "Número de trânsito de roteamento ABA:028013202\n",
      "Código de país do provedor do banco.:RU\n",
      "Gere um número de conta bancária básico:JAYO52275868809189\n",
      "Gere um número de conta bancária internacional:RU98CXNY3489676993002\n",
      "Swift:QSIKESE5QT0\n",
      "Swift11:MZMBDEKIPSV\n",
      "Swift8:BBPNGBJ5\n",
      "\n",
      "Número de trânsito de roteamento ABA:101256096\n",
      "Código de país do provedor do banco.:GB\n",
      "Gere um número de conta bancária básico:76701720099251853671097\n",
      "Gere um número de conta bancária internacional:RU10TUKU1942641830675\n",
      "Swift:OLZUGBEC\n",
      "Swift11:BPIAGB7NOF6\n",
      "Swift8:WQNQESTH\n",
      "\n",
      "Número de trânsito de roteamento ABA:036961168\n",
      "Código de país do provedor do banco.:TH\n",
      "Gere um número de conta bancária básico:1162076607\n",
      "Gere um número de conta bancária internacional:RU40KXIC5115055203519\n",
      "Swift:GAGVTHHA\n",
      "Swift11:JLWAGBOJL3H\n",
      "Swift8:PLWIPTIB\n",
      "\n"
     ]
    }
   ],
   "source": [
    "fake = Faker(['pt','de','en','es','la','th','fr','ru','ja'])\n",
    "Faker.seed(0)\n",
    "# Para endereços\n",
    "for _ in range(10):\n",
    "    print(f\"Número de trânsito de roteamento ABA:{fake.aba()}\")\n",
    "    print(f\"Código de país do provedor do banco.:{fake.bank_country()}\")\n",
    "    print(f\"Gere um número de conta bancária básico:{fake.bban()}\")\n",
    "    print(f\"Gere um número de conta bancária internacional:{fake.iban()}\")\n",
    "    print(f\"Swift:{fake.swift()}\")\n",
    "    print(f\"Swift11:{fake.swift11()}\")\n",
    "    print(f\"Swift8:{fake.swift8()}\\n\")"
   ]
  },
  {
   "cell_type": "markdown",
   "id": "ba976174",
   "metadata": {},
   "source": [
    "## continuar em https://faker.readthedocs.io/en/stable/providers/faker.providers.barcode.html"
   ]
  },
  {
   "cell_type": "markdown",
   "id": "dd2b88e7",
   "metadata": {},
   "source": [
    "## Cores"
   ]
  },
  {
   "cell_type": "code",
   "execution_count": 79,
   "id": "839183d8",
   "metadata": {},
   "outputs": [
    {
     "name": "stdout",
     "output_type": "stream",
     "text": [
      "Cor:rgb(54, 226, 71)\n",
      "Nome da cor:Sienna\n",
      "Cor hexadecimal:#f5fe03\n",
      "Cor para o CSS:rgb(149,151,167)\n",
      "Cor HEX:#552233\n",
      "Cor:rgb(62, 201, 173)\n",
      "Nome da cor:Vert printemps\n",
      "Cor hexadecimal:#e5ce0d\n",
      "Cor para o CSS:rgb(75,64,114)\n",
      "Cor HEX:#aa7777\n",
      "Cor:rgb(126, 196, 221)\n",
      "Nome da cor:สีส้มแดง\n",
      "Cor hexadecimal:#6b770e\n",
      "Cor para o CSS:rgb(23,67,10)\n",
      "Cor HEX:#cc2222\n",
      "Cor:rgb(44, 198, 33)\n",
      "Nome da cor:PapayaWhip\n",
      "Cor hexadecimal:#bdaa3c\n",
      "Cor para o CSS:rgb(72,216,152)\n",
      "Cor HEX:#bb2277\n",
      "Cor:rgb(58, 255, 176)\n",
      "Nome da cor:Chartreuse\n",
      "Cor hexadecimal:#605dd5\n",
      "Cor para o CSS:rgb(209,4,213)\n",
      "Cor HEX:#aaee66\n",
      "Cor:rgb(76, 232, 146)\n",
      "Nome da cor:DarkGoldenRod\n",
      "Cor hexadecimal:#f344ca\n",
      "Cor para o CSS:rgb(94,55,141)\n",
      "Cor HEX:#3344ee\n",
      "Cor:rgb(115, 244, 182)\n",
      "Nome da cor:Plum\n",
      "Cor hexadecimal:#2cbb94\n",
      "Cor para o CSS:rgb(126,232,174)\n",
      "Cor HEX:#44bbee\n",
      "Cor:rgb(175, 255, 255)\n",
      "Nome da cor:Цвет морской волны\n",
      "Cor hexadecimal:#3421bf\n",
      "Cor para o CSS:rgb(150,0,229)\n",
      "Cor HEX:#ee0066\n",
      "Cor:rgb(142, 255, 176)\n",
      "Nome da cor:Brun kaki\n",
      "Cor hexadecimal:#8b92c3\n",
      "Cor para o CSS:rgb(79,217,241)\n",
      "Cor HEX:#22ff77\n",
      "Cor:rgb(38, 201, 171)\n",
      "Nome da cor:Beige\n",
      "Cor hexadecimal:#1eeed3\n",
      "Cor para o CSS:rgb(138,20,0)\n",
      "Cor HEX:#88cccc\n"
     ]
    }
   ],
   "source": [
    "for _ in range(10):\n",
    "    print(f\"Cor:{fake.color(hue=(100, 200), color_format='rgb')}\")\n",
    "    print(f\"Nome da cor:{fake.color_name()}\")\n",
    "    print(f\"Cor hexadecimal:{fake.hex_color()}\")\n",
    "    print(f\"Cor para o CSS:{fake.rgb_css_color()}\")\n",
    "    print(f\"Cor HEX:{fake.safe_hex_color()}\")"
   ]
  },
  {
   "cell_type": "markdown",
   "id": "ca1d0134",
   "metadata": {},
   "source": [
    "## Empresa"
   ]
  },
  {
   "cell_type": "code",
   "execution_count": 80,
   "id": "87ac75a3",
   "metadata": {},
   "outputs": [
    {
     "name": "stdout",
     "output_type": "stream",
     "text": [
      "Nome fantasia:grow sticky portals\n",
      "Lema:L'assurance de changer sans soucis\n",
      "Slogam:plus rapidement\n",
      "Palavra-chave:la sécurité\n",
      "Nome da empresa:บริษัท นกทอง จำกัด\n",
      "Sufixo da empresa:PLC\n",
      "Nome fantasia:cultivate interactive communities\n",
      "Lema:Прочный и нестандартный графический интерфейс пользователя\n",
      "Slogam:en toute tranquilité\n",
      "Palavra-chave:la possibilité\n",
      "Nome da empresa:ЗАО «Виноградова Матвеева»\n",
      "Sufixo da empresa:S.A.\n",
      "Nome fantasia:incubate sticky e-markets\n",
      "Lema:L'assurance d'innover naturellement\n",
      "Slogam:avant-tout\n",
      "Palavra-chave:l'avantage\n",
      "Nome da empresa:Группа Волга-Днепр\n",
      "Sufixo da empresa:คอมมิวนิเคชั่น\n",
      "Nome fantasia:embrace 24/7 architectures\n",
      "Lema:Open-architected optimizing Local Area Network\n",
      "Slogam:plus facilement\n",
      "Palavra-chave:la possibilité\n",
      "Nome da empresa:中村ガス合同会社\n",
      "Sufixo da empresa:Group\n",
      "Nome fantasia:architect compelling models\n",
      "Lema:Team-oriented motivating functionalities\n",
      "Slogam:naturellement\n",
      "Palavra-chave:la liberté\n",
      "Nome da empresa:ทีฆะและถนัดรบ\n",
      "Sufixo da empresa:S.A.\n",
      "Nome fantasia:Развитие безотказных инфопосредников\n",
      "Lema:Переработанный и третичный анализатор\n",
      "Slogam:autrement\n",
      "Palavra-chave:la sécurité\n",
      "Nome da empresa:合同会社遠藤運輸\n",
      "Sufixo da empresa:Ltd\n",
      "Nome fantasia:re-contextualize impactful synergies\n",
      "Lema:L'assurance d'innover à sa source\n",
      "Slogam:plus simplement\n",
      "Palavra-chave:le confort\n",
      "Nome da empresa:ถนัดเดินข่าวเอเยนซี\n",
      "Sufixo da empresa:Inc\n",
      "Nome fantasia:Преображение онлайн и офлайн отношений\n",
      "Lema:Networked composite groupware\n",
      "Slogam:autrement\n",
      "Palavra-chave:la liberté\n",
      "Nome da empresa:Caron\n",
      "Sufixo da empresa:Group\n",
      "Nome fantasia:re-contextualize B2B deliverables\n",
      "Lema:Intuitive clear-thinking database\n",
      "Slogam:plus facilement\n",
      "Palavra-chave:le droit\n",
      "Nome da empresa:Macedo\n",
      "Sufixo da empresa:Group\n",
      "Nome fantasia:exploit holistic architectures\n",
      "Lema:Многогранный и составной фреймворк\n",
      "Slogam:plus simplement\n",
      "Palavra-chave:l'avantage\n",
      "Nome da empresa:有限会社佐藤運輸\n",
      "Sufixo da empresa:Инк\n"
     ]
    }
   ],
   "source": [
    "for _ in range(10):\n",
    "    print(f\"Nome fantasia:{fake.bs()}\")\n",
    "    print(f\"Lema:{fake.catch_phrase()}\")\n",
    "    print(f\"Slogam:{fake.catch_phrase_attribute()}\")\n",
    "    print(f\"Palavra-chave:{fake.catch_phrase_noun()}\")\n",
    "    #print(f\"CNPJ:{fake.cnpj()}\")\n",
    "    print(f\"Nome da empresa:{fake.company()}\")\n",
    "    #print(f\"ID da empresa:{fake.company_id()}\")\n",
    "    print(f\"Sufixo da empresa:{fake.company_suffix()}\")"
   ]
  },
  {
   "cell_type": "markdown",
   "id": "ef84c0f4",
   "metadata": {},
   "source": [
    "## Data"
   ]
  },
  {
   "cell_type": "code",
   "execution_count": 81,
   "id": "f8efafed",
   "metadata": {},
   "outputs": [
    {
     "name": "stdout",
     "output_type": "stream",
     "text": [
      "Data:1982-09-16\n",
      "Data de aniversário:1955-04-07\n",
      "Data nesse século:2001-12-09\n",
      "Data nessa década:2021-07-31\n",
      "Data nesse mês:2021-10-08\n",
      "Data nesse ano:2021-09-21\n",
      "Data com a ISO8601:1981-10-19T05:32:17\n",
      "Data:10 พ.ย. 2528\n",
      "Data de aniversário:1988-11-26\n",
      "Data nesse século:2010-02-14\n",
      "Data nessa década:2021-04-20\n",
      "Data nesse mês:2021-10-02\n",
      "Data nesse ano:2021-10-01\n",
      "Data com a ISO8601:2004-11-06T18:40:21\n",
      "Data:2021-02-20\n",
      "Data de aniversário:1944-06-26\n",
      "Data nesse século:2012-01-05\n",
      "Data nessa década:2020-11-15\n",
      "Data nesse mês:2021-10-06\n",
      "Data nesse ano:2021-01-21\n",
      "Data com a ISO8601:2012-12-31T10:45:51\n",
      "Data:2017-06-02\n",
      "Data de aniversário:1976-01-08\n",
      "Data nesse século:2018-08-14\n",
      "Data nessa década:2021-07-24\n",
      "Data nesse mês:2021-10-06\n",
      "Data nesse ano:2021-08-14\n",
      "Data com a ISO8601:2000-12-08T04:52:22\n",
      "Data:2003-05-12\n",
      "Data de aniversário:1940-06-12\n",
      "Data nesse século:2016-03-08\n",
      "Data nessa década:2020-06-16\n",
      "Data nesse mês:2021-10-05\n",
      "Data nesse ano:2021-04-14\n",
      "Data com a ISO8601:1972-11-15T18:13:38\n",
      "Data:1972-12-24\n",
      "Data de aniversário:1912-12-05\n",
      "Data nesse século:2005-07-16\n",
      "Data nessa década:2020-09-28\n",
      "Data nesse mês:2021-10-01\n",
      "Data nesse ano:2021-04-23\n",
      "Data com a ISO8601:2014-07-19T20:33:46\n",
      "Data:1970-06-27\n",
      "Data de aniversário:1924-11-19\n",
      "Data nesse século:2002-03-02\n",
      "Data nessa década:2021-09-03\n",
      "Data nesse mês:2021-10-06\n",
      "Data nesse ano:2021-09-22\n",
      "Data com a ISO8601:1985-02-12T23:28:53\n",
      "Data:2011-06-02\n",
      "Data de aniversário:1959-09-28\n",
      "Data nesse século:2018-12-23\n",
      "Data nessa década:2020-06-20\n",
      "Data nesse mês:2021-10-06\n",
      "Data nesse ano:2021-03-16\n",
      "Data com a ISO8601:1993-02-07T09:52:06\n",
      "Data:2011-05-25\n",
      "Data de aniversário:1919-09-15\n",
      "Data nesse século:2020-08-18\n",
      "Data nessa década:2020-03-07\n",
      "Data nesse mês:2021-10-10\n",
      "Data nesse ano:2021-05-04\n",
      "Data com a ISO8601:1991-12-23T10:38:23\n",
      "Data:2006-06-20\n",
      "Data de aniversário:1967-10-21\n",
      "Data nesse século:2011-01-23\n",
      "Data nessa década:2020-07-17\n",
      "Data nesse mês:2021-10-01\n",
      "Data nesse ano:2021-07-22\n",
      "Data com a ISO8601:1973-01-07T09:18:47\n"
     ]
    }
   ],
   "source": [
    "for _ in range(10):\n",
    "    print(f\"Data:{fake.date()}\")\n",
    "    print(f\"Data de aniversário:{fake.date_of_birth()}\")\n",
    "    print(f\"Data nesse século:{fake.date_this_century()}\")\n",
    "    print(f\"Data nessa década:{fake.date_this_decade()}\")\n",
    "    print(f\"Data nesse mês:{fake.date_this_month()}\")\n",
    "    print(f\"Data nesse ano:{fake.date_this_year()}\")\n",
    "    print(f\"Data com a ISO8601:{fake.iso8601()}\")"
   ]
  },
  {
   "cell_type": "code",
   "execution_count": 82,
   "id": "1d00000c",
   "metadata": {},
   "outputs": [],
   "source": [
    "## Internet"
   ]
  },
  {
   "cell_type": "code",
   "execution_count": 83,
   "id": "41209dc8",
   "metadata": {},
   "outputs": [
    {
     "name": "stdout",
     "output_type": "stream",
     "text": [
      "Email pessoal:dinis38@correia.net\n",
      "Email empresarial:hortensia44@planas.es\n",
      "Gerador de domínio:ou.com\n",
      "Email:dishikawa@yahoo.com\n",
      "Email livre:cmisicher@aol.de\n",
      "IPV4:79.110.232.235\n",
      "IPV4 público:20.235.228.235\n",
      "IPV6:36a5:be06:eb52:ee01:e25e:6513:69fc:bef0\n",
      "URI:http://prado.net/wp-content/list/post/\n",
      "URL:https://doering.net/\n",
      "Nome de usuário:yara78\n",
      "Email pessoal:joern30@aol.de\n",
      "Email empresarial:giraudnath@menard.net\n",
      "Gerador de domínio:njrvitfhvpbqcaipetafvvyvqcrqhdihuuxnuxyjamfnblhwe.com\n",
      "Email:ilinamarija@kordiant.ru\n",
      "Email livre:ivan_84@yahoo.com\n",
      "IPV4:183.175.49.225\n",
      "IPV4 público:52.242.163.1\n",
      "IPV6:7af2:f402:a0e6:24f1:5f89:d54e:3bcd:6aec\n",
      "URI:http://www.tran.com/faq.html\n",
      "URL:http://elorza.com/\n",
      "Nome de usuário:faariniitangkulngaam\n",
      "Email pessoal:joelcatalan@gmail.com\n",
      "Email empresarial:mbenard@lombard.com\n",
      "Gerador de domínio:uvdpthpwajevjtqxftgfluiwxjboshe.info\n",
      "Email:benjaminangela@gmail.com\n",
      "Email livre:vophthisaty@protonmail.com\n",
      "IPV4:4.161.83.100\n",
      "IPV4 público:153.183.250.199\n",
      "IPV6:5100:f186:d25a:b049:30e9:be18:b413:4208\n",
      "URI:https://www.arenas.net/homepage.jsp\n",
      "URL:http://nakamura.com/\n",
      "Nome de usuário:angelo59\n",
      "Email pessoal:tiagoalves@ribeiro.com\n",
      "Email empresarial:hendriksbaptist@hecker.de\n",
      "Gerador de domínio:rphgxodkqmfxrawsiybqskjkokirl.org\n",
      "Email:ryoheiyoshida@kobayashi.com\n",
      "Email livre:phlaanuch66@hotmail.com\n",
      "IPV4:48.225.33.131\n",
      "IPV4 público:207.179.129.193\n",
      "IPV6:ebe7:ef91:9092:b69:abc:847f:c253:7638\n",
      "URI:https://smith.org/\n",
      "URL:http://www.young-clayton.com/\n",
      "Nome de usuário:lisaakhamenk\n",
      "Email pessoal:irmabudig@schinke.de\n",
      "Email empresarial:laetitiamarion@fleury.fr\n",
      "Gerador de domínio:nwciknqdrxlbvsepllrmnxhrppsaxjhas.com\n",
      "Email:nuno27@moura.pt\n",
      "Email livre:joseph76@gmail.com\n",
      "IPV4:50.114.82.169\n",
      "IPV4 público:209.30.34.1\n",
      "IPV6:8d56:206d:920c:3de9:8823:9868:c5dd:967b\n",
      "URI:http://van.de/register.html\n",
      "URL:http://nakajima.com/\n",
      "Nome de usuário:ekaterina94\n",
      "Email pessoal:paul43@knight.com\n",
      "Email empresarial:gotthilf25@anders.com\n",
      "Gerador de domínio:pkgutccfteumduoedmdx.jp\n",
      "Email:clemence69@noos.fr\n",
      "Email livre:krphnthphrmn@outlook.com\n",
      "IPV4:156.71.232.66\n",
      "IPV4 público:96.19.21.45\n",
      "IPV6:e8ef:99e9:7afc:50cd:b8bc:6622:f2d7:fe55\n",
      "URI:http://www.freitas.com/login.html\n",
      "URL:http://www.rodriguez.org/\n",
      "Nome de usuário:rfischer\n",
      "Email pessoal:kitichay64@ymail.com\n",
      "Email empresarial:zacharie36@robert.com\n",
      "Gerador de domínio:lpqmewlavvkiqayddonslpoulsddulgxihltwfkftboworfypokyseeuitxbtf.pt\n",
      "Email:nschweitzer@bachmann.com\n",
      "Email livre:thachyaathungengin@protonmail.com\n",
      "IPV4:79.242.205.62\n",
      "IPV4 público:197.25.15.92\n",
      "IPV6:ed2e:e36f:c211:2eda:f1e7:ea9c:2f65:70d7\n",
      "URI:http://ito.jp/list/posts/main/main/\n",
      "URL:http://martins.org/\n",
      "Nome de usuário:hrrsthr59\n",
      "Email pessoal:jaentschansgar@googlemail.com\n",
      "Email empresarial:farmerjames@hughes-rowe.biz\n",
      "Gerador de domínio:cbneagypamumddwhnfrexaycfpefqgrwdtndteobslfbxkgjeroauad.es\n",
      "Email:victor06@barbe.com\n",
      "Email livre:azevedoisabel@clix.pt\n",
      "IPV4:36.112.156.182\n",
      "IPV4 público:62.38.138.10\n",
      "IPV6:d763:b159:ed9a:189a:5085:2f50:b09:ec41\n",
      "URI:https://oao.info/\n",
      "URL:http://www.jaekel.com/\n",
      "Nome de usuário:junfujii\n",
      "Email pessoal:anike_2007@rambler.ru\n",
      "Email empresarial:wcoelho@azevedo.org\n",
      "Gerador de domínio:knqbfshdrykmkifebg.com\n",
      "Email:wmeyer@tele2.fr\n",
      "Email livre:khmkribnamthwach@outlook.com\n",
      "IPV4:130.41.181.109\n",
      "IPV4 público:161.37.115.99\n",
      "IPV6:74e0:4bbb:ca80:33a7:a5fd:89c9:3161:b3d\n",
      "URI:http://matsumoto.jp/main/posts/app/home.asp\n",
      "URL:https://www.doehn.de/\n",
      "Nome de usuário:ykaester\n",
      "Email pessoal:dufourtimothee@voila.fr\n",
      "Email empresarial:gurevvladlen@ip.net\n",
      "Gerador de domínio:danvnlokehmhblreqhujxcqthuocqjvashttvgiximhegg.com\n",
      "Email:dsazonova@naumova.com\n",
      "Email livre:diego60@sapo.pt\n",
      "IPV4:48.95.125.62\n",
      "IPV4 público:222.132.51.167\n",
      "IPV6:7427:9656:7db:34e0:2e40:2535:6987:b052\n",
      "URI:http://ip.ru/index.php\n",
      "URL:http://www.gilbert-valdez.com/\n",
      "Nome de usuário:camila87\n"
     ]
    }
   ],
   "source": [
    "for _ in range(10):\n",
    "    print(f\"Email pessoal:{fake.ascii_email()}\")\n",
    "    print(f\"Email empresarial:{fake.company_email()}\")\n",
    "    print(f\"Gerador de domínio:{fake.dga()}\")\n",
    "    print(f\"Email:{fake.email()}\")\n",
    "    print(f\"Email livre:{fake.free_email()}\")\n",
    "    print(f\"IPV4:{fake.ipv4()}\")\n",
    "    print(f\"IPV4 público:{fake.ipv4_public()}\")\n",
    "    print(f\"IPV6:{fake.ipv6()}\")\n",
    "    print(f\"URI:{fake.uri()}\")\n",
    "    print(f\"URL:{fake.url()}\")\n",
    "    print(f\"Nome de usuário:{fake.user_name()}\")"
   ]
  },
  {
   "cell_type": "markdown",
   "id": "0284ae97",
   "metadata": {},
   "source": [
    "## Emprego"
   ]
  },
  {
   "cell_type": "code",
   "execution_count": 84,
   "id": "ea633a82",
   "metadata": {},
   "outputs": [
    {
     "name": "stdout",
     "output_type": "stream",
     "text": [
      "Emprego:Krankenschwester\n",
      "Emprego:Bäcker\n",
      "Emprego:Farmacologista e outros especialistas relacionados\n",
      "Emprego:Social worker\n",
      "Emprego:Mechaniker\n",
      "Emprego:Garment/textile technologist\n",
      "Emprego:アーティスト\n",
      "Emprego:อัยการ\n",
      "Emprego:Scientist, clinical (histocompatibility and immunogenetics)\n",
      "Emprego:Bankkaufmann\n"
     ]
    }
   ],
   "source": [
    "for _ in range(10):\n",
    "    print(f\"Emprego:{fake.job()}\")"
   ]
  },
  {
   "cell_type": "markdown",
   "id": "caeb9415",
   "metadata": {},
   "source": [
    "## Informações pessoais "
   ]
  },
  {
   "cell_type": "code",
   "execution_count": 85,
   "id": "fc4817bb",
   "metadata": {},
   "outputs": [
    {
     "name": "stdout",
     "output_type": "stream",
     "text": [
      "Nome Completo:Jacques Pelletier\n",
      "Número de telefone:702-840-0652\n",
      "SSN:222-39-5076\n",
      "Nome Completo:Daniel Hernandez Lucena\n",
      "Número de telefone:8 235 326 7592\n",
      "SSN:396-73-0221\n",
      "Nome Completo:Kevin Mcdaniel\n",
      "Número de telefone:+49 (0) 2005 800019\n",
      "SSN:627-19-2510\n",
      "Nome Completo:Щербакова Алевтина Николаевна\n",
      "Número de telefone:95-3258-3861\n",
      "SSN:1-2014-45714-85-6\n",
      "Nome Completo:Herminio Orozco Bárcena\n",
      "Número de telefone:+34716 376 363\n",
      "SSN:691-44-8580\n",
      "Nome Completo:Гуляева Олимпиада Егоровна\n",
      "Número de telefone:03 095 6180\n",
      "SSN:606-66-1797\n",
      "Nome Completo:Gilbert Jenkins\n",
      "Número de telefone:(04815) 525780\n",
      "SSN:201-33-2899\n",
      "Nome Completo:Inês-Francisca Lourenço\n",
      "Número de telefone:0 7048 6064\n",
      "SSN:352-21-9520\n",
      "Nome Completo:Maricruz Puig Silva\n",
      "Número de telefone:+33 (0)4 16 88 22 23\n",
      "SSN:169-30-0487\n",
      "Nome Completo:Bernarda Ureña\n",
      "Número de telefone:(945)164-2585x826\n",
      "SSN:365-67-8466\n"
     ]
    }
   ],
   "source": [
    "for _ in range(10):\n",
    "    print(f\"Nome Completo:{fake.name()}\")\n",
    "    print(f\"Número de telefone:{fake.phone_number()}\")\n",
    "    #print(f\"CPF:{fake.cpf()}\")\n",
    "    #print(f\"Identidade:{fake.rg()}\")\n",
    "    print(f\"SSN:{fake.ssn()}\")"
   ]
  },
  {
   "cell_type": "code",
   "execution_count": null,
   "id": "835046c8",
   "metadata": {},
   "outputs": [],
   "source": []
  },
  {
   "cell_type": "code",
   "execution_count": null,
   "id": "8e9c6774",
   "metadata": {},
   "outputs": [],
   "source": []
  },
  {
   "cell_type": "code",
   "execution_count": null,
   "id": "fa89a883",
   "metadata": {},
   "outputs": [],
   "source": []
  }
 ],
 "metadata": {
  "kernelspec": {
   "display_name": "Python 3",
   "language": "python",
   "name": "python3"
  },
  "language_info": {
   "codemirror_mode": {
    "name": "ipython",
    "version": 3
   },
   "file_extension": ".py",
   "mimetype": "text/x-python",
   "name": "python",
   "nbconvert_exporter": "python",
   "pygments_lexer": "ipython3",
   "version": "3.8.8"
  }
 },
 "nbformat": 4,
 "nbformat_minor": 5
}
